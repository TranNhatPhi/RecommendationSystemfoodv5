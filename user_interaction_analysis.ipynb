{
 "cells": [
  {
   "cell_type": "markdown",
   "id": "c1424776",
   "metadata": {},
   "source": [
    "# Recipe Recommendation System: User Interaction Analysis"
   ]
  },
  {
   "cell_type": "markdown",
   "id": "cf69a47d",
   "metadata": {},
   "source": [
    "## 1. Load and Inspect the Dataset"
   ]
  },
  {
   "cell_type": "code",
   "execution_count": null,
   "id": "9fc34fba",
   "metadata": {},
   "outputs": [],
   "source": []
  },
  {
   "cell_type": "code",
   "execution_count": null,
   "id": "5b6da3a0",
   "metadata": {},
   "outputs": [],
   "source": [
    "import pandas as pd\n",
    "\n",
    "# Load the dataset\n",
    "df = pd.read_csv('user_interactions.csv')\n",
    "\n",
    "# Display the first few rows of the dataframe\n",
    "print(df.head())"
   ]
  },
  {
   "cell_type": "markdown",
   "id": "af070cb5",
   "metadata": {},
   "source": [
    "## 2. Filter Interactions by Customer"
   ]
  },
  {
   "cell_type": "code",
   "execution_count": null,
   "id": "949effbb",
   "metadata": {},
   "outputs": [],
   "source": [
    "# Filter data for a specific customer_id\n",
    "customer_id_to_filter = 12345 # Example customer ID\n",
    "filtered_df = df[df['customer_id'] == customer_id_to_filter]\n",
    "\n",
    "# Display the filtered data\n",
    "print(filtered_df)"
   ]
  },
  {
   "cell_type": "markdown",
   "id": "282146ad",
   "metadata": {},
   "source": [
    "## 3. Analyze Interaction Types"
   ]
  },
  {
   "cell_type": "code",
   "execution_count": null,
   "id": "3b3193f2",
   "metadata": {},
   "outputs": [],
   "source": [
    "# Group by interaction_type and count occurrences\n",
    "interaction_counts = df['interaction_type'].value_counts()\n",
    "\n",
    "# Display the counts\n",
    "print(interaction_counts)"
   ]
  },
  {
   "cell_type": "markdown",
   "id": "6ca1646b",
   "metadata": {},
   "source": [
    "## 4. Visualize Ratings Distribution"
   ]
  },
  {
   "cell_type": "code",
   "execution_count": null,
   "id": "27339954",
   "metadata": {},
   "outputs": [],
   "source": [
    "import plotly.express as px\n",
    "\n",
    "# Create a histogram of ratings\n",
    "fig = px.histogram(df, x='rating', title='Distribution of Ratings')\n",
    "fig.show()"
   ]
  },
  {
   "cell_type": "markdown",
   "id": "a1aaa44b",
   "metadata": {},
   "source": [
    "## 5. Group Data by Meal Time"
   ]
  },
  {
   "cell_type": "code",
   "execution_count": null,
   "id": "d0e85560",
   "metadata": {},
   "outputs": [],
   "source": [
    "# Group by meal_time and calculate average rating\n",
    "meal_time_analysis = df.groupby('meal_time')['rating'].mean().reset_index()\n",
    "\n",
    "# Display the analysis\n",
    "print(meal_time_analysis)"
   ]
  },
  {
   "cell_type": "markdown",
   "id": "cbf18c9a",
   "metadata": {},
   "source": [
    "## 6. Calculate Average Scores"
   ]
  },
  {
   "cell_type": "code",
   "execution_count": null,
   "id": "d9113f62",
   "metadata": {},
   "outputs": [],
   "source": [
    "# Calculate average content_score and cf_score\n",
    "avg_content_score = df['content_score'].mean()\n",
    "avg_cf_score = df['cf_score'].mean()\n",
    "\n",
    "# Display the average scores\n",
    "print(f\"Average Content Score: {avg_content_score}\")\n",
    "print(f\"Average CF Score: {avg_cf_score}\")"
   ]
  }
 ],
 "metadata": {
  "language_info": {
   "name": "python"
  }
 },
 "nbformat": 4,
 "nbformat_minor": 5
}
